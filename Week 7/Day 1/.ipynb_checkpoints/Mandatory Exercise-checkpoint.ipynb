{
 "cells": [
  {
   "cell_type": "markdown",
   "id": "1a5c9ad1",
   "metadata": {},
   "source": [
    "# 1"
   ]
  },
  {
   "cell_type": "code",
   "execution_count": 1,
   "id": "9f198df8",
   "metadata": {},
   "outputs": [],
   "source": [
    "import numpy as np\n",
    "import pandas as pd"
   ]
  },
  {
   "cell_type": "code",
   "execution_count": 2,
   "id": "9a73ff1b",
   "metadata": {},
   "outputs": [],
   "source": [
    "def create_array(start, length,step):\n",
    "    new_length = (length + 1) * step\n",
    "    array = np.arange(start,new_length,step)\n",
    "    return array"
   ]
  },
  {
   "cell_type": "code",
   "execution_count": 3,
   "id": "9e9aa232",
   "metadata": {},
   "outputs": [],
   "source": [
    "result = create_array(6,100,4)"
   ]
  },
  {
   "cell_type": "code",
   "execution_count": 4,
   "id": "3d7ff918",
   "metadata": {},
   "outputs": [
    {
     "data": {
      "text/plain": [
       "(100,)"
      ]
     },
     "execution_count": 4,
     "metadata": {},
     "output_type": "execute_result"
    }
   ],
   "source": [
    "result.shape"
   ]
  },
  {
   "cell_type": "markdown",
   "id": "ecc0433e",
   "metadata": {},
   "source": [
    "# 2"
   ]
  },
  {
   "cell_type": "code",
   "execution_count": 5,
   "id": "6f3b25f6",
   "metadata": {},
   "outputs": [
    {
     "data": {
      "text/plain": [
       "array([ 1.,  2.,  3., nan,  5.,  6.,  7., nan])"
      ]
     },
     "execution_count": 5,
     "metadata": {},
     "output_type": "execute_result"
    }
   ],
   "source": [
    "a = np.array([1,2,3,np.nan,5,6,7,np.nan])\n",
    "a"
   ]
  },
  {
   "cell_type": "code",
   "execution_count": 6,
   "id": "d7c44876",
   "metadata": {},
   "outputs": [],
   "source": [
    "nan_val = np.nan"
   ]
  },
  {
   "cell_type": "code",
   "execution_count": 7,
   "id": "9b4711e1",
   "metadata": {},
   "outputs": [
    {
     "data": {
      "text/plain": [
       "array([False, False, False,  True, False, False, False,  True])"
      ]
     },
     "execution_count": 7,
     "metadata": {},
     "output_type": "execute_result"
    }
   ],
   "source": [
    "np.isnan(a)"
   ]
  },
  {
   "cell_type": "code",
   "execution_count": 8,
   "id": "8cbdca09",
   "metadata": {},
   "outputs": [
    {
     "data": {
      "text/plain": [
       "array([1., 2., 3., 5., 6., 7.])"
      ]
     },
     "execution_count": 8,
     "metadata": {},
     "output_type": "execute_result"
    }
   ],
   "source": [
    "a[np.isnan(a) == False]"
   ]
  },
  {
   "cell_type": "markdown",
   "id": "a479e785",
   "metadata": {},
   "source": [
    "# 3"
   ]
  },
  {
   "cell_type": "code",
   "execution_count": 9,
   "id": "6fe4e057",
   "metadata": {},
   "outputs": [
    {
     "data": {
      "text/plain": [
       "array([[85, 15, 72, 47, 69, 58],\n",
       "       [27, 48, 93, 84, 14, 45],\n",
       "       [69,  2, 31, 27,  3, 87],\n",
       "       [76, 50, 10, 40, 11, 60],\n",
       "       [54, 95, 13, 58, 68, 73]])"
      ]
     },
     "execution_count": 9,
     "metadata": {},
     "output_type": "execute_result"
    }
   ],
   "source": [
    "b= np.random.randint(1,101, (5,6))\n",
    "b"
   ]
  },
  {
   "cell_type": "markdown",
   "id": "bf4f590f",
   "metadata": {},
   "source": [
    "# 4"
   ]
  },
  {
   "cell_type": "code",
   "execution_count": 10,
   "id": "ff5aa465",
   "metadata": {},
   "outputs": [],
   "source": [
    "series = pd.Series(np.take(list('abcdefghijklmnop'), np.random.randint(16, size=500)))"
   ]
  },
  {
   "cell_type": "code",
   "execution_count": 11,
   "id": "0cd736ed",
   "metadata": {},
   "outputs": [
    {
     "data": {
      "text/plain": [
       "0      o\n",
       "1      j\n",
       "2      a\n",
       "3      o\n",
       "4      p\n",
       "      ..\n",
       "495    b\n",
       "496    f\n",
       "497    n\n",
       "498    g\n",
       "499    p\n",
       "Length: 500, dtype: object"
      ]
     },
     "execution_count": 11,
     "metadata": {},
     "output_type": "execute_result"
    }
   ],
   "source": [
    "series"
   ]
  },
  {
   "cell_type": "code",
   "execution_count": 14,
   "id": "3e806322",
   "metadata": {},
   "outputs": [
    {
     "data": {
      "text/plain": [
       "array(['a', 'b', 'c', 'd', 'e', 'f', 'g', 'h', 'i', 'j', 'k', 'l', 'm',\n",
       "       'n', 'o', 'p'], dtype=object)"
      ]
     },
     "execution_count": 14,
     "metadata": {},
     "output_type": "execute_result"
    }
   ],
   "source": [
    "np.unique(series)"
   ]
  },
  {
   "cell_type": "code",
   "execution_count": null,
   "id": "ee1761ef",
   "metadata": {},
   "outputs": [],
   "source": []
  }
 ],
 "metadata": {
  "kernelspec": {
   "display_name": "Python 3 (ipykernel)",
   "language": "python",
   "name": "python3"
  },
  "language_info": {
   "codemirror_mode": {
    "name": "ipython",
    "version": 3
   },
   "file_extension": ".py",
   "mimetype": "text/x-python",
   "name": "python",
   "nbconvert_exporter": "python",
   "pygments_lexer": "ipython3",
   "version": "3.11.1"
  }
 },
 "nbformat": 4,
 "nbformat_minor": 5
}
